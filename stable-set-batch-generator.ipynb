{
 "cells": [
  {
   "cell_type": "code",
   "execution_count": 1,
   "metadata": {},
   "outputs": [],
   "source": [
    "# From: https://introcs.cs.princeton.edu/python/23recursion/graycode.py.html\n",
    "\n",
    "# Return an n-bit Gray code.\n",
    "\n",
    "def genCode(n):\n",
    "    if n == 0:\n",
    "        return ['']\n",
    "    \n",
    "    code1 = genCode(n-1)\n",
    "    code2 = []\n",
    "    for codeWord in code1:\n",
    "        code2 = [codeWord] + code2\n",
    "        \n",
    "    for i in range(len(code1)):\n",
    "        code1[i] += '0'\n",
    "    for i in range(len(code2)):\n",
    "        code2[i] += '1'\n",
    "    return code1 + code2    "
   ]
  },
  {
   "cell_type": "code",
   "execution_count": 2,
   "metadata": {},
   "outputs": [
    {
     "name": "stdout",
     "output_type": "stream",
     "text": [
      "0000\n",
      "1000\n",
      "1100\n",
      "0100\n",
      "0110\n",
      "1110\n",
      "1010\n",
      "0010\n",
      "0011\n",
      "1011\n",
      "1111\n",
      "0111\n",
      "0101\n",
      "1101\n",
      "1001\n",
      "0001\n"
     ]
    }
   ],
   "source": [
    "n = 4\n",
    "code = genCode(n)\n",
    "for codeWord in code:\n",
    "    print(codeWord)"
   ]
  },
  {
   "cell_type": "code",
   "execution_count": 3,
   "metadata": {},
   "outputs": [],
   "source": [
    "def is_stable(G, mycodeword):\n",
    "    for i,j in G.edges:\n",
    "        if mycodeword[i]=='1' and mycodeword[j]=='1':    \n",
    "            return False\n",
    "    return True"
   ]
  },
  {
   "cell_type": "code",
   "execution_count": 4,
   "metadata": {},
   "outputs": [],
   "source": [
    "# Select # vertices and get gray code\n",
    "n = 10\n",
    "code = genCode(n)"
   ]
  },
  {
   "cell_type": "code",
   "execution_count": 5,
   "metadata": {},
   "outputs": [],
   "source": [
    "import networkx as nx\n",
    "import matplotlib.pyplot as plt"
   ]
  },
  {
   "cell_type": "code",
   "execution_count": 7,
   "metadata": {},
   "outputs": [],
   "source": [
    "# Generate ten G(n,p) random graphs, with p=10%, 20%, ..., 90%\n",
    "\n",
    "for q in range(10, 100, 10):  # 10, 20, ..., 90\n",
    "    \n",
    "    for iteration in range(10):\n",
    "        \n",
    "        p = q / 100\n",
    "        G = nx.gnp_random_graph( n, p )    \n",
    "        \n",
    "        fn = \"stable-set-\" + str(q) + \"-\" + str(iteration)\n",
    "        \n",
    "        # save the graph to png file\n",
    "        fig = plt.figure()\n",
    "        nx.draw(G, with_labels=True)\n",
    "        fig.savefig( fn + \".png\" )\n",
    "        plt.close(fig)\n",
    "        \n",
    "        # create the .poi file\n",
    "        file = open( fn + \".poi\", \"w\" )   \n",
    "\n",
    "        # print .poi header to file\n",
    "        file.write(\"DIM = \" + str(n) + \"\\n\")\n",
    "        file.write(\"\\n\")\n",
    "        file.write(\"CONV_SECTION\\n\")\n",
    "\n",
    "        # print .poi feasible points to file\n",
    "        for codeWord in code:\n",
    "            if is_stable(G, codeWord):\n",
    "                # print codeWord, but with spaces between every character\n",
    "                file.write(\" \".join(codeWord)+\"\\n\")\n",
    "\n",
    "        # print .poi footer and close\n",
    "        file.write(\"END\\n\")\n",
    "        file.write(\"\\n\")\n",
    "        file.write(\"DIMENSION OF THE POLYHEDRON : \"+str(n) + \"\\n\" )\n",
    "\n",
    "        file.close()"
   ]
  },
  {
   "cell_type": "code",
   "execution_count": 8,
   "metadata": {},
   "outputs": [],
   "source": [
    "# create a batch file to convert all the .poi files to .ieq files\n",
    "filename = \"stable-set.bat\"\n",
    "file = open(filename, \"w\")\n",
    "\n",
    "for q in range(10, 100, 10):  \n",
    "    for iteration in range(10):\n",
    "        fn = \"stable-set-\" + str(q) + \"-\" + str(iteration)\n",
    "        file.write( \"xporta -T \" + fn + \".poi\\n\" )\n",
    "    \n",
    "file.close()\n",
    "\n",
    "# Now: \n",
    "# 1. move the .poi files and .bat file to ...\\porta-1.4.1\\win32\\bin\\ \n",
    "# 2. open command prompt and navigate to ...\\porta-1.4.1\\win32\\bin\\ \n",
    "# 3. run stable-set.bat\n",
    "# 4. Wait a couple minutes for PORTA to run\n",
    "# 5. The .ieq files will be created in ...\\porta-1.4.1\\win32\\bin\\ "
   ]
  },
  {
   "cell_type": "code",
   "execution_count": null,
   "metadata": {},
   "outputs": [],
   "source": []
  }
 ],
 "metadata": {
  "kernelspec": {
   "display_name": "Python 3",
   "language": "python",
   "name": "python3"
  },
  "language_info": {
   "codemirror_mode": {
    "name": "ipython",
    "version": 3
   },
   "file_extension": ".py",
   "mimetype": "text/x-python",
   "name": "python",
   "nbconvert_exporter": "python",
   "pygments_lexer": "ipython3",
   "version": "3.7.10"
  }
 },
 "nbformat": 4,
 "nbformat_minor": 4
}
