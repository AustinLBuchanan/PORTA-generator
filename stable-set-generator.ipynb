{
 "cells": [
  {
   "cell_type": "code",
   "execution_count": 1,
   "metadata": {},
   "outputs": [],
   "source": [
    "# From: https://introcs.cs.princeton.edu/python/23recursion/graycode.py.html\n",
    "\n",
    "# Return an n-bit Gray code.\n",
    "\n",
    "def genCode(n):\n",
    "    if n == 0:\n",
    "        return ['']\n",
    "    \n",
    "    code1 = genCode(n-1)\n",
    "    code2 = []\n",
    "    for codeWord in code1:\n",
    "        code2 = [codeWord] + code2\n",
    "        \n",
    "    for i in range(len(code1)):\n",
    "        code1[i] += '0'\n",
    "    for i in range(len(code2)):\n",
    "        code2[i] += '1'\n",
    "    return code1 + code2    "
   ]
  },
  {
   "cell_type": "code",
   "execution_count": 2,
   "metadata": {},
   "outputs": [
    {
     "name": "stdout",
     "output_type": "stream",
     "text": [
      "0000\n",
      "1000\n",
      "1100\n",
      "0100\n",
      "0110\n",
      "1110\n",
      "1010\n",
      "0010\n",
      "0011\n",
      "1011\n",
      "1111\n",
      "0111\n",
      "0101\n",
      "1101\n",
      "1001\n",
      "0001\n"
     ]
    }
   ],
   "source": [
    "n = 4\n",
    "code = genCode(n)\n",
    "for codeWord in code:\n",
    "    print(codeWord)"
   ]
  },
  {
   "cell_type": "code",
   "execution_count": 3,
   "metadata": {},
   "outputs": [
    {
     "name": "stdout",
     "output_type": "stream",
     "text": [
      "Vertices: [0, 1, 2, 3, 4, 5]\n",
      "Edges: [(0, 1), (0, 2), (0, 3), (0, 4), (0, 5), (1, 2), (1, 5), (2, 3), (3, 4), (4, 5)]\n"
     ]
    }
   ],
   "source": [
    "import networkx as nx\n",
    "\n",
    "# Create a graph\n",
    "G = nx.wheel_graph(6)\n",
    "\n",
    "print(\"Vertices:\",G.nodes)\n",
    "print(\"Edges:\",G.edges)"
   ]
  },
  {
   "cell_type": "code",
   "execution_count": 4,
   "metadata": {},
   "outputs": [
    {
     "data": {
      "image/png": "[encoded data removed]",
      "text/plain": [
       "<Figure size 432x288 with 1 Axes>"
      ]
     },
     "metadata": {},
     "output_type": "display_data"
    }
   ],
   "source": [
    "# Visualize the graph, for fun\n",
    "import matplotlib.pyplot as plt\n",
    "nx.draw( G, with_labels=True )"
   ]
  },
  {
   "cell_type": "code",
   "execution_count": 5,
   "metadata": {},
   "outputs": [],
   "source": [
    "def is_stable(G, mycodeword):\n",
    "    for i,j in G.edges:\n",
    "        if mycodeword[i]=='1' and mycodeword[j]=='1':    \n",
    "            return False\n",
    "    return True"
   ]
  },
  {
   "cell_type": "code",
   "execution_count": 6,
   "metadata": {},
   "outputs": [
    {
     "name": "stdout",
     "output_type": "stream",
     "text": [
      "True\n",
      "True\n",
      "False\n",
      "False\n",
      "False\n"
     ]
    }
   ],
   "source": [
    "print(is_stable(G,\"0000000\"))\n",
    "print(is_stable(G,\"1000000\"))\n",
    "print(is_stable(G,\"0101010\"))\n",
    "print(is_stable(G,\"0111000\"))\n",
    "print(is_stable(G,\"1111111\"))"
   ]
  },
  {
   "cell_type": "code",
   "execution_count": 7,
   "metadata": {},
   "outputs": [],
   "source": [
    "# open file \n",
    "filename = \"stable-sets-of-6-wheel.poi\"\n",
    "file = open(filename, \"w\")\n",
    "\n",
    "n = G.number_of_nodes()"
   ]
  },
  {
   "cell_type": "code",
   "execution_count": 8,
   "metadata": {},
   "outputs": [
    {
     "data": {
      "text/plain": [
       "13"
      ]
     },
     "execution_count": 8,
     "metadata": {},
     "output_type": "execute_result"
    }
   ],
   "source": [
    "# print .poi header to file\n",
    "\n",
    "file.write(\"DIM = \"+str(n)+\"\\n\")\n",
    "file.write(\"\\n\")\n",
    "file.write(\"CONV_SECTION\\n\")"
   ]
  },
  {
   "cell_type": "code",
   "execution_count": 9,
   "metadata": {},
   "outputs": [],
   "source": [
    "# print .poi feasible points to file\n",
    "code = genCode(G.number_of_nodes())\n",
    "for codeWord in code:\n",
    "    if is_stable(G, codeWord):\n",
    "        # print codeWord, but with spaces between every character\n",
    "        file.write(\" \".join(codeWord)+\"\\n\")   "
   ]
  },
  {
   "cell_type": "code",
   "execution_count": 10,
   "metadata": {},
   "outputs": [],
   "source": [
    "# print .poi footer to file and close it\n",
    "file.write(\"END\\n\")\n",
    "file.write(\"\\n\")\n",
    "file.write(\"DIMENSION OF THE POLYHEDRON : \"+str(n) + \"\\n\" )\n",
    "\n",
    "file.close()"
   ]
  },
  {
   "cell_type": "code",
   "execution_count": null,
   "metadata": {},
   "outputs": [],
   "source": []
  }
 ],
 "metadata": {
  "kernelspec": {
   "display_name": "Python 3",
   "language": "python",
   "name": "python3"
  },
  "language_info": {
   "codemirror_mode": {
    "name": "ipython",
    "version": 3
   },
   "file_extension": ".py",
   "mimetype": "text/x-python",
   "name": "python",
   "nbconvert_exporter": "python",
   "pygments_lexer": "ipython3",
   "version": "3.7.10"
  }
 },
 "nbformat": 4,
 "nbformat_minor": 4
}
